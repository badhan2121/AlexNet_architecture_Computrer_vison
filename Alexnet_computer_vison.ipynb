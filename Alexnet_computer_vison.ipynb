{
  "nbformat": 4,
  "nbformat_minor": 0,
  "metadata": {
    "colab": {
      "provenance": []
    },
    "kernelspec": {
      "name": "python3",
      "display_name": "Python 3"
    },
    "language_info": {
      "name": "python"
    }
  },
  "cells": [
    {
      "cell_type": "code",
      "execution_count": 3,
      "metadata": {
        "id": "A9e0E-e_Ndav"
      },
      "outputs": [],
      "source": [
        "#Building AlexNet Architecture"
      ]
    },
    {
      "cell_type": "code",
      "source": [
        "import tensorflow\n",
        "from tensorflow.keras.models import Sequential\n",
        "from tensorflow.keras.regularizers import L2\n",
        "from tensorflow.keras.layers import Conv2D,AveragePooling2D,Flatten,Dense,Activation,MaxPool2D,BatchNormalization,Dropout\n",
        "from keras.optimizers import SGD"
      ],
      "metadata": {
        "id": "fOQc1tXtRNez"
      },
      "execution_count": 17,
      "outputs": []
    },
    {
      "cell_type": "code",
      "source": [
        "model=Sequential()"
      ],
      "metadata": {
        "id": "D2UZCTQ_Rr8L"
      },
      "execution_count": 5,
      "outputs": []
    },
    {
      "cell_type": "code",
      "source": [
        "#First Layer\n",
        "model.add(Conv2D(filters=96,kernel_size=(11,11),strides=(4,4),padding='valid',input_shape=(227,227,3)))\n",
        "model.add(Activation('relu'))\n",
        "model.add(MaxPool2D(pool_size=(3,3),strides=(2,2)))\n",
        "model.add(BatchNormalization())"
      ],
      "metadata": {
        "id": "zKpW1CwSRizu"
      },
      "execution_count": 6,
      "outputs": []
    },
    {
      "cell_type": "code",
      "source": [
        "#Second Layer\n",
        "model.add(Conv2D(filters=256,kernel_size=(5,5),strides=(1,1),padding='same',kernel_regularizer=L2(.0005)))\n",
        "model.add(Activation('relu'))\n",
        "model.add(MaxPool2D(pool_size=(3,3),strides=(2,2),padding='valid'))\n",
        "model.add(BatchNormalization())"
      ],
      "metadata": {
        "id": "yMdc4QGHSNAm"
      },
      "execution_count": 7,
      "outputs": []
    },
    {
      "cell_type": "code",
      "source": [
        "#Third Layer\n",
        "model.add(Conv2D(filters=384,kernel_size=(3,3),strides=(1,1),padding='same',kernel_regularizer=L2(.0005)))\n",
        "model.add(Activation('relu'))\n",
        "model.add(BatchNormalization())"
      ],
      "metadata": {
        "id": "7uFcXknSRuZe"
      },
      "execution_count": 8,
      "outputs": []
    },
    {
      "cell_type": "code",
      "source": [
        "#Fourth Layer\n",
        "model.add(Conv2D(filters=384,kernel_size=(3,3),strides=(1,1),padding='same',kernel_regularizer=L2(.0005)))\n",
        "model.add(Activation('relu'))\n",
        "model.add(BatchNormalization())"
      ],
      "metadata": {
        "id": "cDea-COJNtHC"
      },
      "execution_count": 9,
      "outputs": []
    },
    {
      "cell_type": "code",
      "source": [
        "#Fifth Layer\n",
        "model.add(Conv2D(filters=256,kernel_size=(3,3),strides=(1,1),padding='same',kernel_regularizer=L2(.0005)))\n",
        "model.add(Activation('relu'))\n",
        "model.add(BatchNormalization())\n",
        "model.add(MaxPool2D(pool_size=(3,3),strides=(2,2),padding='valid'))"
      ],
      "metadata": {
        "id": "GyP_WoQ_Oza-"
      },
      "execution_count": 10,
      "outputs": []
    },
    {
      "cell_type": "code",
      "source": [
        "model.add(Flatten())"
      ],
      "metadata": {
        "id": "F-8aR2-TZD1l"
      },
      "execution_count": 11,
      "outputs": []
    },
    {
      "cell_type": "code",
      "source": [
        "#layer six Dense\n",
        "model.add(Dense(units=4096,activation='relu'))\n",
        "model.add(Dropout(.5))"
      ],
      "metadata": {
        "id": "lU9uM4fgccgt"
      },
      "execution_count": 12,
      "outputs": []
    },
    {
      "cell_type": "code",
      "source": [
        "#layer seven Dense\n",
        "model.add(Dense(units=4096,activation='relu'))\n",
        "model.add(Dropout(.5))"
      ],
      "metadata": {
        "id": "WHmKIXqic4me"
      },
      "execution_count": 13,
      "outputs": []
    },
    {
      "cell_type": "code",
      "source": [
        "#layer eight output\n",
        "model.add(Dense(units=1000,activation='softmax'))"
      ],
      "metadata": {
        "id": "K0-1JMMkc5wk"
      },
      "execution_count": 14,
      "outputs": []
    },
    {
      "cell_type": "code",
      "source": [
        "model.summary()"
      ],
      "metadata": {
        "colab": {
          "base_uri": "https://localhost:8080/"
        },
        "id": "G2qt3Ax3j4dY",
        "outputId": "32f88d0e-08b1-495d-ca7b-9a383bb96e20"
      },
      "execution_count": 15,
      "outputs": [
        {
          "output_type": "stream",
          "name": "stdout",
          "text": [
            "Model: \"sequential\"\n",
            "_________________________________________________________________\n",
            " Layer (type)                Output Shape              Param #   \n",
            "=================================================================\n",
            " conv2d (Conv2D)             (None, 55, 55, 96)        34944     \n",
            "                                                                 \n",
            " activation (Activation)     (None, 55, 55, 96)        0         \n",
            "                                                                 \n",
            " max_pooling2d (MaxPooling2  (None, 27, 27, 96)        0         \n",
            " D)                                                              \n",
            "                                                                 \n",
            " batch_normalization (Batch  (None, 27, 27, 96)        384       \n",
            " Normalization)                                                  \n",
            "                                                                 \n",
            " conv2d_1 (Conv2D)           (None, 27, 27, 256)       614656    \n",
            "                                                                 \n",
            " activation_1 (Activation)   (None, 27, 27, 256)       0         \n",
            "                                                                 \n",
            " max_pooling2d_1 (MaxPoolin  (None, 13, 13, 256)       0         \n",
            " g2D)                                                            \n",
            "                                                                 \n",
            " batch_normalization_1 (Bat  (None, 13, 13, 256)       1024      \n",
            " chNormalization)                                                \n",
            "                                                                 \n",
            " conv2d_2 (Conv2D)           (None, 13, 13, 384)       885120    \n",
            "                                                                 \n",
            " activation_2 (Activation)   (None, 13, 13, 384)       0         \n",
            "                                                                 \n",
            " batch_normalization_2 (Bat  (None, 13, 13, 384)       1536      \n",
            " chNormalization)                                                \n",
            "                                                                 \n",
            " conv2d_3 (Conv2D)           (None, 13, 13, 384)       1327488   \n",
            "                                                                 \n",
            " activation_3 (Activation)   (None, 13, 13, 384)       0         \n",
            "                                                                 \n",
            " batch_normalization_3 (Bat  (None, 13, 13, 384)       1536      \n",
            " chNormalization)                                                \n",
            "                                                                 \n",
            " conv2d_4 (Conv2D)           (None, 13, 13, 256)       884992    \n",
            "                                                                 \n",
            " activation_4 (Activation)   (None, 13, 13, 256)       0         \n",
            "                                                                 \n",
            " batch_normalization_4 (Bat  (None, 13, 13, 256)       1024      \n",
            " chNormalization)                                                \n",
            "                                                                 \n",
            " max_pooling2d_2 (MaxPoolin  (None, 6, 6, 256)         0         \n",
            " g2D)                                                            \n",
            "                                                                 \n",
            " flatten (Flatten)           (None, 9216)              0         \n",
            "                                                                 \n",
            " dense (Dense)               (None, 4096)              37752832  \n",
            "                                                                 \n",
            " dropout (Dropout)           (None, 4096)              0         \n",
            "                                                                 \n",
            " dense_1 (Dense)             (None, 4096)              16781312  \n",
            "                                                                 \n",
            " dropout_1 (Dropout)         (None, 4096)              0         \n",
            "                                                                 \n",
            " dense_2 (Dense)             (None, 1000)              4097000   \n",
            "                                                                 \n",
            "=================================================================\n",
            "Total params: 62383848 (237.98 MB)\n",
            "Trainable params: 62381096 (237.96 MB)\n",
            "Non-trainable params: 2752 (10.75 KB)\n",
            "_________________________________________________________________\n"
          ]
        }
      ]
    },
    {
      "cell_type": "code",
      "source": [
        "import numpy as np\n",
        "from tensorflow.keras.callbacks import ReduceLROnPlateau\n",
        "\n",
        "reduce_lr=ReduceLROnPlateau(monitor='val_loss',factor=np.sqrt(.1))#momentum helps not to stuck in greadient descent problem\n",
        "optimizer=tensorflow.keras.optimizers.SGD(learning_rate=.01,momentum=.9)\n",
        "model.compile(loss='categorical_crossentropy',optimizer=optimizer,metrics=['accuracy'])\n",
        "#model.compile(loss='binary_crossentropy', optimizer='adam', metrics=['accuracy'])"
      ],
      "metadata": {
        "id": "wmiz2bte0Ex6"
      },
      "execution_count": 23,
      "outputs": []
    },
    {
      "cell_type": "code",
      "source": [
        "model.fit(X_train,y_train,batch_size=128,epochs=90,validation_data=(x_test,y_test),verbose=2,callbacks=[reduce_lr])"
      ],
      "metadata": {
        "id": "OEf_SnRx31wa"
      },
      "execution_count": 22,
      "outputs": []
    }
  ]
}